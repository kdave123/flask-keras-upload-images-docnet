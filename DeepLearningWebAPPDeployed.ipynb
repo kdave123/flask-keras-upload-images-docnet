{
 "cells": [
  {
   "cell_type": "code",
   "execution_count": null,
   "metadata": {},
   "outputs": [
    {
     "name": "stderr",
     "output_type": "stream",
     "text": [
      " * Running on http://localhost:9000/ (Press CTRL+C to quit)\n",
      "127.0.0.1 - - [14/Mar/2019 20:01:20] \"\u001b[37mGET / HTTP/1.1\u001b[0m\" 200 -\n",
      "127.0.0.1 - - [14/Mar/2019 20:01:20] \"\u001b[33mGET /static/bootstrap.min.css HTTP/1.1\u001b[0m\" 404 -\n",
      "127.0.0.1 - - [14/Mar/2019 20:01:32] \"\u001b[37mGET / HTTP/1.1\u001b[0m\" 200 -\n",
      "127.0.0.1 - - [14/Mar/2019 20:01:32] \"\u001b[33mGET /static/bootstrap.min.css HTTP/1.1\u001b[0m\" 404 -\n"
     ]
    },
    {
     "name": "stdout",
     "output_type": "stream",
     "text": [
      "Permanent Aswan Numbm\n",
      "0 0 0\n"
     ]
    },
    {
     "name": "stderr",
     "output_type": "stream",
     "text": [
      "127.0.0.1 - - [14/Mar/2019 20:01:59] \"\u001b[37mPOST /upload HTTP/1.1\u001b[0m\" 200 -\n",
      "127.0.0.1 - - [14/Mar/2019 20:02:00] \"\u001b[33mGET /static/bootstrap.min.css HTTP/1.1\u001b[0m\" 404 -\n",
      "127.0.0.1 - - [14/Mar/2019 20:03:37] \"\u001b[37mPOST /upload HTTP/1.1\u001b[0m\" 200 -\n"
     ]
    },
    {
     "name": "stdout",
     "output_type": "stream",
     "text": [
      "Manpreet Singh Malagar Singh Raulu Majra Rupnagar Punjab ERIE Your Aadhaar Year Birth Male\n",
      "4532 4740 1984\n"
     ]
    },
    {
     "name": "stderr",
     "output_type": "stream",
     "text": [
      "127.0.0.1 - - [14/Mar/2019 20:03:38] \"\u001b[33mGET /static/bootstrap.min.css HTTP/1.1\u001b[0m\" 404 -\n",
      "127.0.0.1 - - [14/Mar/2019 20:03:38] \"\u001b[37mGET /static/upload/59f961dcc011b.jpg HTTP/1.1\u001b[0m\" 200 -\n",
      "127.0.0.1 - - [14/Mar/2019 20:04:07] \"\u001b[37mPOST /upload HTTP/1.1\u001b[0m\" 200 -\n"
     ]
    },
    {
     "name": "stdout",
     "output_type": "stream",
     "text": [
      "Sanka Pradeep Galkwad room pehalwan chawl gollbar road khar east Mumbal Bandra East Mumbal Mumban watt Sanka Gatkwad Fifi Female\n",
      "8892 4801 9079\n"
     ]
    },
    {
     "name": "stderr",
     "output_type": "stream",
     "text": [
      "127.0.0.1 - - [14/Mar/2019 20:04:07] \"\u001b[33mGET /static/bootstrap.min.css HTTP/1.1\u001b[0m\" 404 -\n",
      "127.0.0.1 - - [14/Mar/2019 20:04:15] \"\u001b[1m\u001b[31mPOST /upload HTTP/1.1\u001b[0m\" 400 -\n",
      "127.0.0.1 - - [14/Mar/2019 20:04:18] \"\u001b[33mGET /static/bootstrap.min.css HTTP/1.1\u001b[0m\" 404 -\n",
      "127.0.0.1 - - [14/Mar/2019 20:04:32] \"\u001b[37mPOST /upload HTTP/1.1\u001b[0m\" 200 -\n",
      "127.0.0.1 - - [14/Mar/2019 20:04:32] \"\u001b[33mGET /static/bootstrap.min.css HTTP/1.1\u001b[0m\" 404 -\n",
      "127.0.0.1 - - [14/Mar/2019 20:04:32] \"\u001b[37mGET /static/upload/IMG_20190203_183245.jpg HTTP/1.1\u001b[0m\" 200 -\n"
     ]
    },
    {
     "name": "stdout",
     "output_type": "stream",
     "text": [
      "INCOME DAVE NATWARLAL DAVE Number\n",
      "0 0 0\n"
     ]
    },
    {
     "name": "stderr",
     "output_type": "stream",
     "text": [
      "127.0.0.1 - - [14/Mar/2019 21:14:13] \"\u001b[37mGET / HTTP/1.1\u001b[0m\" 200 -\n",
      "127.0.0.1 - - [14/Mar/2019 21:14:13] \"\u001b[33mGET /static/bootstrap.min.css HTTP/1.1\u001b[0m\" 404 -\n",
      "127.0.0.1 - - [14/Mar/2019 21:14:20] \"\u001b[37mPOST /upload HTTP/1.1\u001b[0m\" 200 -\n",
      "127.0.0.1 - - [14/Mar/2019 21:14:20] \"\u001b[33mGET /static/bootstrap.min.css HTTP/1.1\u001b[0m\" 404 -\n"
     ]
    },
    {
     "name": "stdout",
     "output_type": "stream",
     "text": [
      "\n",
      "0 0 0\n"
     ]
    },
    {
     "name": "stderr",
     "output_type": "stream",
     "text": [
      "127.0.0.1 - - [14/Mar/2019 21:14:20] \"\u001b[37mGET /static/upload/pan.jpg HTTP/1.1\u001b[0m\" 200 -\n",
      "127.0.0.1 - - [14/Mar/2019 21:14:31] \"\u001b[37mPOST /upload HTTP/1.1\u001b[0m\" 200 -\n",
      "127.0.0.1 - - [14/Mar/2019 21:14:31] \"\u001b[33mGET /static/bootstrap.min.css HTTP/1.1\u001b[0m\" 404 -\n",
      "127.0.0.1 - - [14/Mar/2019 21:14:31] \"\u001b[37mGET /static/upload/pan_.jpg HTTP/1.1\u001b[0m\" 200 -\n"
     ]
    },
    {
     "name": "stdout",
     "output_type": "stream",
     "text": [
      "INDIA Pmmanenl nmum Number HFOPKR Nlmo FRANK GANPAI KATI Fimers GANPAT KATIE\n",
      "0 0 1211\n"
     ]
    },
    {
     "name": "stderr",
     "output_type": "stream",
     "text": [
      "127.0.0.1 - - [14/Mar/2019 21:14:44] \"\u001b[37mPOST /upload HTTP/1.1\u001b[0m\" 200 -\n",
      "127.0.0.1 - - [14/Mar/2019 21:14:44] \"\u001b[33mGET /static/bootstrap.min.css HTTP/1.1\u001b[0m\" 404 -\n",
      "127.0.0.1 - - [14/Mar/2019 21:14:44] \"\u001b[37mGET /static/upload/pan2.jpg HTTP/1.1\u001b[0m\" 200 -\n"
     ]
    },
    {
     "name": "stdout",
     "output_type": "stream",
     "text": [
      "GOVT INDIA duel Permanent Accaum Number Card HFOP FRANK GANFAT KATI Flthe GANPAT mmlsignlh\n",
      "0 0 1997\n"
     ]
    },
    {
     "name": "stderr",
     "output_type": "stream",
     "text": [
      "127.0.0.1 - - [14/Mar/2019 21:14:52] \"\u001b[37mPOST /upload HTTP/1.1\u001b[0m\" 200 -\n",
      "127.0.0.1 - - [14/Mar/2019 21:14:52] \"\u001b[37mGET /static/upload/pan23.jpg HTTP/1.1\u001b[0m\" 200 -\n",
      "127.0.0.1 - - [14/Mar/2019 21:14:52] \"\u001b[33mGET /static/bootstrap.min.css HTTP/1.1\u001b[0m\" 404 -\n"
     ]
    },
    {
     "name": "stdout",
     "output_type": "stream",
     "text": [
      "GOVT INDIA duel Permanent Accaum Number Card HFOP FRANK GANFAT KATI Flthe GANPAT mmlsignlh\n",
      "0 0 1997\n"
     ]
    }
   ],
   "source": [
    "import time\n",
    "import os\n",
    "import cv2\n",
    "import numpy as np\n",
    "import keras\n",
    "from werkzeug.wrappers import Request, Response\n",
    "from flask import Flask, request, render_template\n",
    "from flask import Flask\n",
    "\n",
    "import re\n",
    "try:\n",
    "    from PIL import Image\n",
    "except ImportError:\n",
    "    import Image\n",
    "import pytesseract\n",
    "\n",
    "docnet_model = keras.models.load_model('3-conv-128-filter-3-dense-0.3-DropoutPercent-32-DenseNodes-1551378358docnet_model_RealSynth_2classes_07022019lossEpoch-1-.h5')\n",
    "pytesseract.pytesseract.tesseract_cmd = r'C:\\Program Files (x86)\\Tesseract-OCR\\tesseract'\n",
    "app = Flask(__name__)\n",
    "\n",
    "img_counter = 0\n",
    "\n",
    "DATADIR = \"static\"\n",
    "\n",
    "CATEGORIES = [\"upload\"]\n",
    "\n",
    "UPLOAD_FOLDER = os.path.join('static','upload')\n",
    "app.config['UPLOAD_FOLDER'] = UPLOAD_FOLDER\n",
    "\n",
    "@app.route('/')\n",
    "def hello_world():\n",
    "    return render_template('welcome.html')\n",
    "\n",
    "@app.route('/upload', methods=['POST'])\n",
    "def upload_file():\n",
    "    file = request.files['image']\n",
    "    f = os.path.join(app.config['UPLOAD_FOLDER'], file.filename)\n",
    "    \n",
    "    # add your custom code to check that the uploaded file is a valid image and not a malicious file (out-of-scope for this post)\n",
    "    file.save(f)\n",
    "    \n",
    "    #try:\n",
    "    X_test =[]\n",
    "    img_array = cv2.imread(f ,cv2.IMREAD_GRAYSCALE) \n",
    "    \n",
    "    text = pytesseract.image_to_string(img_array,lang=\"eng\")\n",
    "    textog =(re.sub(r'[\\W_]+', ' ', text))\n",
    "    text = str.split(textog)\n",
    "    c=2\n",
    "                \n",
    "    number=['0','0','0']\n",
    "    for s in reversed(text):\n",
    "        if (len(s) == 4 and s.isdigit() and c>-1):\n",
    "            number[c]=s\n",
    "            c=c-1\n",
    "    number = ' '.join(number)\n",
    "                \n",
    "    whitelist = set('abcdefghijklmnopqrstuvwxyz ABCDEFGHIJKLMNOPQRSTUVWXYZ')\n",
    "    text = ''.join(filter(whitelist.__contains__, textog))\n",
    "    text = str.split(text)\n",
    "    text = [word for word in text if len(word) > 3 and len(word) <10]\n",
    "    text = ' '.join(text)\n",
    "    print(text)\n",
    "    print(number)\n",
    "    number=\"ID :\"+number\n",
    "    \n",
    "    \n",
    "    \n",
    "    \n",
    "    new_array = cv2.resize(img_array, (128, 76))  # resize to normalize data size\n",
    "    X_test.append(new_array) \n",
    "    #except Exception as e:\n",
    "    #print(\"general exception\", e, f)\n",
    "\n",
    "    X_test = (np.array(X_test).reshape(-1,  76,128, 1))\n",
    "    #NORMALIZE\n",
    "    X_test = X_test / 255\n",
    "\n",
    "    \n",
    "    \n",
    "    pred = docnet_model.predict(X_test)\n",
    "    if(pred[0][0] > pred [0][1]):\n",
    "        prediction_confidence = \"Aadhar \"+np.array2string(pred[0][0]*100)+\"% Confident\"\n",
    "    else:\n",
    "        prediction_confidence = \"PAN \"+np.array2string(pred[0][1]*100)+\"% Confident\"\n",
    "        \n",
    "    return render_template('welcome.html', user_image = f,output=prediction_confidence,info=text,no=number)\n",
    "\n",
    "@app.route('/capture')\n",
    "def captureWebcam():\n",
    "    cap = cv2.VideoCapture(0)\n",
    "    font = cv2.FONT_HERSHEY_SIMPLEX\n",
    "    while(True):\n",
    "        # Capture frame-by-frame\n",
    "        ret, frame = cap.read()\n",
    "\n",
    "        #cv2.putText(og,'Press q to Capture',(50,100), font, 2,(255,255,255),2,cv2.LINE_AA)\n",
    "        cv2.imshow('Press q to Capture',frame)\n",
    "        if cv2.waitKey(1) & 0xFF == ord('q'):\n",
    "            img_name = \"opencv_frame_{}.jpg\".format(time.time())\n",
    "            \n",
    "            cv2.imwrite(os.path.join(app.config['UPLOAD_FOLDER'] , img_name), frame)\n",
    "            print(\"{} written!\".format(img_name))\n",
    "            f = os.path.join(app.config['UPLOAD_FOLDER'], img_name)\n",
    "            break\n",
    "    cap.release()\n",
    "    cv2.destroyAllWindows()\n",
    "    \n",
    "    X_test =[]\n",
    "    img_array = cv2.imread(f ,cv2.IMREAD_GRAYSCALE) \n",
    "    \n",
    "    text = pytesseract.image_to_string(img_array,lang=\"eng\")\n",
    "    textog =(re.sub(r'[\\W_]+', ' ', text))\n",
    "    text = str.split(textog)\n",
    "    c=2\n",
    "                \n",
    "    number=['0','0','0']\n",
    "    for s in reversed(text):\n",
    "        if (len(s) == 4 and s.isdigit() and c>-1):\n",
    "            number[c]=s\n",
    "            c=c-1\n",
    "    number = ' '.join(number)\n",
    "                \n",
    "    whitelist = set('abcdefghijklmnopqrstuvwxyz ABCDEFGHIJKLMNOPQRSTUVWXYZ')\n",
    "    text = ''.join(filter(whitelist.__contains__, textog))\n",
    "    text = str.split(text)\n",
    "    text = [word for word in text if len(word) > 3 and len(word) <10]\n",
    "    text = ' '.join(text)\n",
    "    print(text)\n",
    "    print(number)\n",
    "    number=\"ID :\"+number\n",
    "    new_array = cv2.resize(img_array, (128, 76))  # resize to normalize data size\n",
    "    X_test.append(new_array) \n",
    "    #except Exception as e:\n",
    "    #print(\"general exception\", e, f)\n",
    "\n",
    "    X_test = (np.array(X_test).reshape(-1, 76, 128,1))\n",
    "    #NORMALIZE\n",
    "    X_test = X_test / 255\n",
    "\n",
    "    \n",
    "    \n",
    "    pred = docnet_model.predict(X_test)\n",
    "    if(pred[0][0] > pred [0][1]):\n",
    "        \n",
    "        if(pred[0][0] < 0.99):\n",
    "            \n",
    "            prediction_confidence = \"Aadhar \"+np.array2string(pred[0][0]*100)+\"% Confident\"\n",
    "        else:\n",
    "            \n",
    "            prediction_confidence = \"Not confident \"+np.array2string(pred[0][0]*100)+\"% Confident\"\n",
    "    else:\n",
    "         if(pred[0][1] < 0.99):\n",
    "                prediction_confidence = \"PAN \"+np.array2string(pred[0][0]*100)+\"% Confident\"\n",
    "         else:\n",
    "            prediction_confidence = \"Not Confident \"+np.array2string(pred[0][1]*100)+\"% Confident\"\n",
    "    \n",
    "    return render_template('welcome.html', user_image = f,output=prediction_confidence,info= text,no=number)\n",
    "\n",
    "if __name__ == '__main__':\n",
    "    from werkzeug.serving import run_simple\n",
    "    run_simple('localhost', 9000, app)\n"
   ]
  },
  {
   "cell_type": "code",
   "execution_count": 7,
   "metadata": {},
   "outputs": [
    {
     "name": "stdout",
     "output_type": "stream",
     "text": [
      "2.2.4\n"
     ]
    }
   ],
   "source": [
    "import keras; print(keras.__version__)"
   ]
  },
  {
   "cell_type": "code",
   "execution_count": null,
   "metadata": {},
   "outputs": [],
   "source": []
  }
 ],
 "metadata": {
  "kernelspec": {
   "display_name": "Python 3",
   "language": "python",
   "name": "python3"
  },
  "language_info": {
   "codemirror_mode": {
    "name": "ipython",
    "version": 3
   },
   "file_extension": ".py",
   "mimetype": "text/x-python",
   "name": "python",
   "nbconvert_exporter": "python",
   "pygments_lexer": "ipython3",
   "version": "3.6.8"
  }
 },
 "nbformat": 4,
 "nbformat_minor": 2
}
